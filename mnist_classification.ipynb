{
  "nbformat": 4,
  "nbformat_minor": 0,
  "metadata": {
    "colab": {
      "name": "none.ipynb",
      "provenance": [],
      "collapsed_sections": []
    },
    "kernelspec": {
      "name": "python3",
      "display_name": "Python 3"
    },
    "language_info": {
      "name": "python"
    }
  },
  "cells": [
    {
      "cell_type": "code",
      "metadata": {
        "colab": {
          "base_uri": "https://localhost:8080/"
        },
        "id": "PoGBlXTUJ1YL",
        "outputId": "2b89b3b8-021b-45ee-c8fb-68dc266bed99"
      },
      "source": [
        "from google.colab import drive\n",
        "drive.mount('/content/drive')"
      ],
      "execution_count": null,
      "outputs": [
        {
          "output_type": "stream",
          "text": [
            "Mounted at /content/drive\n"
          ],
          "name": "stdout"
        }
      ]
    },
    {
      "cell_type": "code",
      "metadata": {
        "colab": {
          "base_uri": "https://localhost:8080/"
        },
        "id": "jdPYJIwpJz80",
        "outputId": "3810bfe8-05fa-4d2d-f450-2623f01a7593"
      },
      "source": [
        "cd '/content/drive/MyDrive/mnist-classification-master'"
      ],
      "execution_count": null,
      "outputs": [
        {
          "output_type": "stream",
          "text": [
            "/content/drive/MyDrive/mnist-classification-master\n"
          ],
          "name": "stdout"
        }
      ]
    },
    {
      "cell_type": "code",
      "metadata": {
        "colab": {
          "base_uri": "https://localhost:8080/"
        },
        "id": "_oXMC6ZtKKp0",
        "outputId": "1afb9bc8-ea5d-4621-cb26-b12d8814b950"
      },
      "source": [
        "ls"
      ],
      "execution_count": null,
      "outputs": [
        {
          "output_type": "stream",
          "text": [
            "\u001b[0m\u001b[01;34mflask-app\u001b[0m/  mnist_cnn.h5  mnist_cnn.py  none.ipynb  README.md\n"
          ],
          "name": "stdout"
        }
      ]
    },
    {
      "cell_type": "code",
      "metadata": {
        "id": "916cDrShKKwH"
      },
      "source": [
        ""
      ],
      "execution_count": null,
      "outputs": []
    },
    {
      "cell_type": "code",
      "metadata": {
        "colab": {
          "base_uri": "https://localhost:8080/"
        },
        "id": "Uad3YtziIhBJ",
        "outputId": "75e5f34e-a619-4574-98ae-a9edc110354d"
      },
      "source": [
        "import keras\n",
        "import numpy as np\n",
        "from keras.models import Sequential\n",
        "from keras.layers import Conv2D, Dense, Activation, Flatten, Dropout, MaxPool2D\n",
        "from keras.utils import np_utils\n",
        "from keras.datasets import mnist\n",
        "from keras.optimizers import SGD\n",
        "import matplotlib.pyplot as plt\n",
        "from keras.utils.vis_utils import model_to_dot \n",
        "from keras.utils.vis_utils import plot_model\n",
        "#from keras.utils import plot_model\n",
        "from IPython.display import SVG\n",
        "from keras.models import load_model\n",
        "from sklearn.metrics import confusion_matrix, f1_score, precision_score, roc_auc_score\n",
        "import os\n",
        "\n",
        "np.random.seed(100)\n",
        "\n",
        "\n",
        "def show_history(acc, loss):\n",
        "    plt.plot(acc)\n",
        "    plt.plot(loss)\n",
        "    plt.ylabel('accuracy')\n",
        "    plt.xlabel('epoch')\n",
        "    plt.legend(['train_accuracy', 'test_accuracy'], loc='best')\n",
        "    plt.show()\n",
        "\n",
        "\n",
        "(x_train, y_train), (x_test, y_test) = mnist.load_data()\n",
        "\n",
        "\n",
        "x_train = x_train.reshape(x_train.shape[0],28,28,1)\n",
        "x_test = x_test.reshape(x_test.shape[0],28,28,1)\n",
        "\n",
        "m = x_train[0]\n",
        "\n",
        "\n",
        "x_train = x_train.astype('float32')\n",
        "x_test = x_test.astype('float32')\n",
        "\n",
        "# normalize\n",
        "x_train /= 255\n",
        "x_test /= 255\n",
        "\n",
        "\n",
        "y_train = np_utils.to_categorical(y_train, 10)\n",
        "y_test = np_utils.to_categorical(y_test, 10)\n",
        "\n",
        "if os.path.exists('mnist_cnn.h5'):\n",
        "    print('Model existed! Load model from file')\n",
        "    model = load_model('mnist_cnn.h5')\n",
        "else:\n",
        "    print('Train new model')\n",
        "\n",
        "    model = Sequential()\n",
        "\n",
        "\n",
        "    model.add(Conv2D(filters=32,kernel_size=(3,3), activation='relu', input_shape=(28,28,1)))\n",
        "    model.add(MaxPool2D(pool_size=(2,2)))\n",
        "    model.add(Conv2D(filters=64,kernel_size=(3,3), activation='relu'))\n",
        "    model.add(MaxPool2D(pool_size=(2,2)))\n",
        "    model.add(Dropout(rate=0.25))\n",
        "    model.add(Flatten())\n",
        "    model.add(Dense(units=128, activation='relu'))\n",
        "    model.add(Dropout(0.5))\n",
        "    model.add(Dense(units=10, activation='softmax'))\n",
        "\n",
        "    plot_model(model, to_file='model.png',show_shapes=True)\n",
        "\n",
        "    model.compile(loss='categorical_crossentropy', optimizer=SGD(lr=0.001, decay=1e-6, momentum=0.9, nesterov=True), metrics=['accuracy'])\n",
        "    history = model.fit(x_train, y_train, batch_size=32, epochs=10, verbose=1, validation_data=(x_train, y_train))\n",
        "    model.save('mnist_cnn.h5')\n",
        "\n",
        "    acc_data = np.array(history.history['acc'])\n",
        "    loss_data = np.array(history.history['acc'])\n",
        "\n",
        "    np.save(open('data1.txt', 'w'), acc_data)\n",
        "    np.save(open('data2.txt', 'w'), loss_data)\n",
        "\n",
        "#x = np.load(open('data1.txt'))\n",
        "#y = np.load(open('data2.txt'))\n",
        "#show_history(x,y)\n",
        "\n",
        "\n",
        "print('Evaluating model')\n",
        "\n",
        "score = model.evaluate(x_test, y_test, verbose=1)\n",
        "prediction = model.predict(x_test)\n",
        "\n",
        "\n",
        "prediction = np.argmax(prediction, axis=1)\n",
        "y_test = np.argmax(y_test,axis=1)\n",
        "\n",
        "matrix = confusion_matrix(y_test, prediction)\n",
        "f1score = f1_score(y_test, prediction, average='weighted')\n",
        "precision = precision_score(y_test, prediction,average='weighted')\n",
        "#auc_value = roc_auc_score(y_test, precision)\n",
        "\n",
        "\n",
        "print('Test score {0}'.format(score))\n",
        "print('F1 score {0}'.format(f1score))\n",
        "print('Precision score {0}'.format(precision))\n",
        "#print('AUC score {0}'.format(auc_value))\n",
        "print('Confusion matrix:\\n{0}'.format(matrix))"
      ],
      "execution_count": null,
      "outputs": [
        {
          "output_type": "stream",
          "text": [
            "Downloading data from https://storage.googleapis.com/tensorflow/tf-keras-datasets/mnist.npz\n",
            "11493376/11490434 [==============================] - 0s 0us/step\n",
            "11501568/11490434 [==============================] - 0s 0us/step\n",
            "Model existed! Load model from file\n",
            "Evaluating model\n",
            "313/313 [==============================] - 15s 8ms/step - loss: 0.1873 - accuracy: 0.9481\n",
            "Test score [0.18725836277008057, 0.9480999708175659]\n",
            "F1 score 0.948031274901191\n",
            "Precision score 0.948338780499506\n",
            "Confusion matrix:\n",
            "[[ 967    0    1    0    0    3    1    1    7    0]\n",
            " [   0 1115    3    2    1    0    4    0    9    1]\n",
            " [   9    4  953   11    7    2    5   22   19    0]\n",
            " [   0    1   12  964    0    7    0    9   15    2]\n",
            " [   1    1    4    0  937    0   11    3    3   22]\n",
            " [   3    1    1   32    2  830    7    1   13    2]\n",
            " [  12    3    2    0    4   16  919    0    2    0]\n",
            " [   2    6   30    6    2    1    0  962    6   13]\n",
            " [   4    0    4   12    4    4    3    7  928    8]\n",
            " [  10    7    6   11   24    5    0   19   21  906]]\n"
          ],
          "name": "stdout"
        }
      ]
    },
    {
      "cell_type": "code",
      "metadata": {
        "colab": {
          "base_uri": "https://localhost:8080/"
        },
        "id": "cxatQMfPLZiV",
        "outputId": "2e88fc9d-bd0a-4d35-aeea-2ab4b855ac52"
      },
      "source": [
        "cd '/content/drive/MyDrive/mnist-classification-master/flask-app'"
      ],
      "execution_count": null,
      "outputs": [
        {
          "output_type": "stream",
          "text": [
            "/content/drive/MyDrive/mnist-classification-master/flask-app\n"
          ],
          "name": "stdout"
        }
      ]
    },
    {
      "cell_type": "code",
      "metadata": {
        "colab": {
          "base_uri": "https://localhost:8080/"
        },
        "id": "f_RFjODjLsIN",
        "outputId": "9d7da69a-701b-4ebb-e9d8-457f104be369"
      },
      "source": [
        "ls"
      ],
      "execution_count": null,
      "outputs": [
        {
          "output_type": "stream",
          "text": [
            "app.py  app.pyc  sample.png  \u001b[0m\u001b[01;34mstatic\u001b[0m/  \u001b[01;34mtemplates\u001b[0m/  \u001b[01;34muploads\u001b[0m/\n"
          ],
          "name": "stdout"
        }
      ]
    },
    {
      "cell_type": "code",
      "metadata": {
        "colab": {
          "base_uri": "https://localhost:8080/"
        },
        "id": "ZMYsuGxteusy",
        "outputId": "7bf7ec42-ac12-4b31-e28e-e6eeb502b1fc"
      },
      "source": [
        "!pip install flask-ngrok"
      ],
      "execution_count": null,
      "outputs": [
        {
          "output_type": "stream",
          "text": [
            "Collecting flask-ngrok\n",
            "  Downloading https://files.pythonhosted.org/packages/af/6c/f54cb686ad1129e27d125d182f90f52b32f284e6c8df58c1bae54fa1adbc/flask_ngrok-0.0.25-py3-none-any.whl\n",
            "Requirement already satisfied: Flask>=0.8 in /usr/local/lib/python3.7/dist-packages (from flask-ngrok) (1.1.4)\n",
            "Requirement already satisfied: requests in /usr/local/lib/python3.7/dist-packages (from flask-ngrok) (2.23.0)\n",
            "Requirement already satisfied: Jinja2<3.0,>=2.10.1 in /usr/local/lib/python3.7/dist-packages (from Flask>=0.8->flask-ngrok) (2.11.3)\n",
            "Requirement already satisfied: Werkzeug<2.0,>=0.15 in /usr/local/lib/python3.7/dist-packages (from Flask>=0.8->flask-ngrok) (1.0.1)\n",
            "Requirement already satisfied: itsdangerous<2.0,>=0.24 in /usr/local/lib/python3.7/dist-packages (from Flask>=0.8->flask-ngrok) (1.1.0)\n",
            "Requirement already satisfied: click<8.0,>=5.1 in /usr/local/lib/python3.7/dist-packages (from Flask>=0.8->flask-ngrok) (7.1.2)\n",
            "Requirement already satisfied: certifi>=2017.4.17 in /usr/local/lib/python3.7/dist-packages (from requests->flask-ngrok) (2021.5.30)\n",
            "Requirement already satisfied: chardet<4,>=3.0.2 in /usr/local/lib/python3.7/dist-packages (from requests->flask-ngrok) (3.0.4)\n",
            "Requirement already satisfied: idna<3,>=2.5 in /usr/local/lib/python3.7/dist-packages (from requests->flask-ngrok) (2.10)\n",
            "Requirement already satisfied: urllib3!=1.25.0,!=1.25.1,<1.26,>=1.21.1 in /usr/local/lib/python3.7/dist-packages (from requests->flask-ngrok) (1.24.3)\n",
            "Requirement already satisfied: MarkupSafe>=0.23 in /usr/local/lib/python3.7/dist-packages (from Jinja2<3.0,>=2.10.1->Flask>=0.8->flask-ngrok) (2.0.1)\n",
            "Installing collected packages: flask-ngrok\n",
            "Successfully installed flask-ngrok-0.0.25\n"
          ],
          "name": "stdout"
        }
      ]
    },
    {
      "cell_type": "code",
      "metadata": {
        "colab": {
          "base_uri": "https://localhost:8080/"
        },
        "id": "whO7mhGJKe7y",
        "outputId": "34cc0db7-bb26-459b-8aae-c54e49eff4db"
      },
      "source": [
        "from flask_ngrok import run_with_ngrok\n",
        "from flask import Flask, request\n",
        "from flask import render_template, jsonify\n",
        "import tensorflow as tf\n",
        "from tensorflow import keras\n",
        "import base64\n",
        "import json\n",
        "from PIL import Image\n",
        "import numpy as np\n",
        "from tensorflow.keras.models import load_model\n",
        "from tensorflow.keras import backend\n",
        "#from keras.models import load_model\n",
        "#import tensorflow as tf\n",
        "import os\n",
        "\n",
        "\n",
        "dir_path = '/content/drive/MyDrive/mnist-classification-master/flask-app'\n",
        "UPLOAD_FOLDER = dir_path + '/uploads'\n",
        "STATIC_FOLDER = dir_path + '/static'\n",
        "\n",
        "graph = tf.compat.v1.get_default_graph()\n",
        "with graph.as_default():\n",
        "   model = load_model(STATIC_FOLDER + '/' + 'mnist_cnn.h5')\n",
        "\n",
        "app = Flask(__name__)\n",
        "run_with_ngrok(app)\n",
        "\n",
        "@app.route('/')\n",
        "def index():\n",
        "    return render_template('index.html')\n",
        "\n",
        "\n",
        "@app.route('/upload', methods=['GET', 'POST'])\n",
        "def upload():\n",
        "\n",
        "    if request.method == 'GET':\n",
        "        return render_template('index.html')\n",
        "    else:\n",
        "\n",
        "        data = request.form['image']\n",
        "        data = data.replace('data:image/png;base64,','')\n",
        "        data = data.replace(' ', '+')\n",
        "        imgdata = base64.b64decode(data)\n",
        "        filename = UPLOAD_FOLDER + '/test.jpg'\n",
        "        with open(filename, 'wb') as f:\n",
        "            f.write(imgdata)\n",
        "\n",
        "        result = predict(filename)\n",
        "        predicted_number = np.asscalar(np.argmax(result, axis=1))\n",
        "        accuracy = round(result[0][predicted_number] * 100, 2)\n",
        "\n",
        "        return jsonify({'label':predicted_number},)\n",
        "\n",
        "\n",
        "@app.route('/predict', methods=['GET', 'POST'])\n",
        "def predict(filename):\n",
        "    img = Image.open(filename)\n",
        "    img = img.resize((28, 28), Image.ANTIALIAS)\n",
        "    img = np.asarray(img)\n",
        "    data = img[:, :, 3] # select only visible channel\n",
        "\n",
        "    data = np.expand_dims(data, axis=2)\n",
        "    data = np.expand_dims(data, axis=0)\n",
        "\n",
        "    with graph.as_default():\n",
        "        predicted = model.predict(data)\n",
        "\n",
        "    return predicted\n",
        "\n",
        "\n",
        "if __name__ == '__main__':\n",
        "    #app.debug = True\n",
        "    app.run()"
      ],
      "execution_count": null,
      "outputs": [
        {
          "output_type": "stream",
          "text": [
            " * Serving Flask app \"__main__\" (lazy loading)\n",
            " * Environment: production\n",
            "\u001b[31m   WARNING: This is a development server. Do not use it in a production deployment.\u001b[0m\n",
            "\u001b[2m   Use a production WSGI server instead.\u001b[0m\n",
            " * Debug mode: off\n"
          ],
          "name": "stdout"
        },
        {
          "output_type": "stream",
          "text": [
            " * Running on http://127.0.0.1:5000/ (Press CTRL+C to quit)\n"
          ],
          "name": "stderr"
        },
        {
          "output_type": "stream",
          "text": [
            " * Running on http://f85accb6499e.ngrok.io\n",
            " * Traffic stats available on http://127.0.0.1:4040\n"
          ],
          "name": "stdout"
        },
        {
          "output_type": "stream",
          "text": [
            "127.0.0.1 - - [02/Jul/2021 09:41:50] \"\u001b[37mGET / HTTP/1.1\u001b[0m\" 200 -\n",
            "127.0.0.1 - - [02/Jul/2021 09:41:51] \"\u001b[33mGET /favicon.ico HTTP/1.1\u001b[0m\" 404 -\n",
            "127.0.0.1 - - [02/Jul/2021 09:41:52] \"\u001b[37mGET / HTTP/1.1\u001b[0m\" 200 -\n",
            "/usr/local/lib/python3.7/dist-packages/tensorflow/python/keras/engine/training.py:2426: UserWarning: `Model.state_updates` will be removed in a future version. This property should not be used in TensorFlow 2.0, as `updates` are applied automatically.\n",
            "  warnings.warn('`Model.state_updates` will be removed in a future version. '\n",
            "[2021-07-02 09:41:57,498] ERROR in app: Exception on /upload [POST]\n",
            "Traceback (most recent call last):\n",
            "  File \"/usr/local/lib/python3.7/dist-packages/flask/app.py\", line 2447, in wsgi_app\n",
            "    response = self.full_dispatch_request()\n",
            "  File \"/usr/local/lib/python3.7/dist-packages/flask/app.py\", line 1952, in full_dispatch_request\n",
            "    rv = self.handle_user_exception(e)\n",
            "  File \"/usr/local/lib/python3.7/dist-packages/flask/app.py\", line 1821, in handle_user_exception\n",
            "    reraise(exc_type, exc_value, tb)\n",
            "  File \"/usr/local/lib/python3.7/dist-packages/flask/_compat.py\", line 39, in reraise\n",
            "    raise value\n",
            "  File \"/usr/local/lib/python3.7/dist-packages/flask/app.py\", line 1950, in full_dispatch_request\n",
            "    rv = self.dispatch_request()\n",
            "  File \"/usr/local/lib/python3.7/dist-packages/flask/app.py\", line 1936, in dispatch_request\n",
            "    return self.view_functions[rule.endpoint](**req.view_args)\n",
            "  File \"<ipython-input-8-a75dc40f2540>\", line 48, in upload\n",
            "    result = predict(filename)\n",
            "  File \"<ipython-input-8-a75dc40f2540>\", line 66, in predict\n",
            "    predicted = model.predict(data)\n",
            "  File \"/usr/local/lib/python3.7/dist-packages/tensorflow/python/keras/engine/training_v1.py\", line 997, in predict\n",
            "    use_multiprocessing=use_multiprocessing)\n",
            "  File \"/usr/local/lib/python3.7/dist-packages/tensorflow/python/keras/engine/training_arrays_v1.py\", line 709, in predict\n",
            "    callbacks=callbacks)\n",
            "  File \"/usr/local/lib/python3.7/dist-packages/tensorflow/python/keras/engine/training_arrays_v1.py\", line 380, in model_iteration\n",
            "    batch_outs = f(ins_batch)\n",
            "  File \"/usr/local/lib/python3.7/dist-packages/tensorflow/python/keras/backend.py\", line 4055, in __call__\n",
            "    run_metadata=self.run_metadata)\n",
            "  File \"/usr/local/lib/python3.7/dist-packages/tensorflow/python/client/session.py\", line 1482, in __call__\n",
            "    run_metadata_ptr)\n",
            "tensorflow.python.framework.errors_impl.FailedPreconditionError: Could not find variable conv2d_2_1/bias. This could mean that the variable has been deleted. In TF1, it can also mean the variable is uninitialized. Debug info: container=localhost, status=Not found: Container localhost does not exist. (Could not find resource: localhost/conv2d_2_1/bias)\n",
            "\t [[{{node conv2d_2_1/BiasAdd/ReadVariableOp}}]]\n",
            "127.0.0.1 - - [02/Jul/2021 09:41:57] \"\u001b[35m\u001b[1mPOST /upload HTTP/1.1\u001b[0m\" 500 -\n",
            "[2021-07-02 09:41:58,003] ERROR in app: Exception on /upload [POST]\n",
            "Traceback (most recent call last):\n",
            "  File \"/usr/local/lib/python3.7/dist-packages/flask/app.py\", line 2447, in wsgi_app\n",
            "    response = self.full_dispatch_request()\n",
            "  File \"/usr/local/lib/python3.7/dist-packages/flask/app.py\", line 1952, in full_dispatch_request\n",
            "    rv = self.handle_user_exception(e)\n",
            "  File \"/usr/local/lib/python3.7/dist-packages/flask/app.py\", line 1821, in handle_user_exception\n",
            "    reraise(exc_type, exc_value, tb)\n",
            "  File \"/usr/local/lib/python3.7/dist-packages/flask/_compat.py\", line 39, in reraise\n",
            "    raise value\n",
            "  File \"/usr/local/lib/python3.7/dist-packages/flask/app.py\", line 1950, in full_dispatch_request\n",
            "    rv = self.dispatch_request()\n",
            "  File \"/usr/local/lib/python3.7/dist-packages/flask/app.py\", line 1936, in dispatch_request\n",
            "    return self.view_functions[rule.endpoint](**req.view_args)\n",
            "  File \"<ipython-input-8-a75dc40f2540>\", line 48, in upload\n",
            "    result = predict(filename)\n",
            "  File \"<ipython-input-8-a75dc40f2540>\", line 66, in predict\n",
            "    predicted = model.predict(data)\n",
            "  File \"/usr/local/lib/python3.7/dist-packages/tensorflow/python/keras/engine/training_v1.py\", line 997, in predict\n",
            "    use_multiprocessing=use_multiprocessing)\n",
            "  File \"/usr/local/lib/python3.7/dist-packages/tensorflow/python/keras/engine/training_arrays_v1.py\", line 709, in predict\n",
            "    callbacks=callbacks)\n",
            "  File \"/usr/local/lib/python3.7/dist-packages/tensorflow/python/keras/engine/training_arrays_v1.py\", line 380, in model_iteration\n",
            "    batch_outs = f(ins_batch)\n",
            "  File \"/usr/local/lib/python3.7/dist-packages/tensorflow/python/keras/backend.py\", line 4055, in __call__\n",
            "    run_metadata=self.run_metadata)\n",
            "  File \"/usr/local/lib/python3.7/dist-packages/tensorflow/python/client/session.py\", line 1482, in __call__\n",
            "    run_metadata_ptr)\n",
            "tensorflow.python.framework.errors_impl.FailedPreconditionError: Could not find variable conv2d_2_1/kernel. This could mean that the variable has been deleted. In TF1, it can also mean the variable is uninitialized. Debug info: container=localhost, status=Not found: Container localhost does not exist. (Could not find resource: localhost/conv2d_2_1/kernel)\n",
            "\t [[{{node conv2d_2_1/Conv2D/ReadVariableOp}}]]\n",
            "127.0.0.1 - - [02/Jul/2021 09:41:58] \"\u001b[35m\u001b[1mPOST /upload HTTP/1.1\u001b[0m\" 500 -\n",
            "[2021-07-02 09:41:58,406] ERROR in app: Exception on /upload [POST]\n",
            "Traceback (most recent call last):\n",
            "  File \"/usr/local/lib/python3.7/dist-packages/flask/app.py\", line 2447, in wsgi_app\n",
            "    response = self.full_dispatch_request()\n",
            "  File \"/usr/local/lib/python3.7/dist-packages/flask/app.py\", line 1952, in full_dispatch_request\n",
            "    rv = self.handle_user_exception(e)\n",
            "  File \"/usr/local/lib/python3.7/dist-packages/flask/app.py\", line 1821, in handle_user_exception\n",
            "    reraise(exc_type, exc_value, tb)\n",
            "  File \"/usr/local/lib/python3.7/dist-packages/flask/_compat.py\", line 39, in reraise\n",
            "    raise value\n",
            "  File \"/usr/local/lib/python3.7/dist-packages/flask/app.py\", line 1950, in full_dispatch_request\n",
            "    rv = self.dispatch_request()\n",
            "  File \"/usr/local/lib/python3.7/dist-packages/flask/app.py\", line 1936, in dispatch_request\n",
            "    return self.view_functions[rule.endpoint](**req.view_args)\n",
            "  File \"<ipython-input-8-a75dc40f2540>\", line 48, in upload\n",
            "    result = predict(filename)\n",
            "  File \"<ipython-input-8-a75dc40f2540>\", line 66, in predict\n",
            "    predicted = model.predict(data)\n",
            "  File \"/usr/local/lib/python3.7/dist-packages/tensorflow/python/keras/engine/training_v1.py\", line 997, in predict\n",
            "    use_multiprocessing=use_multiprocessing)\n",
            "  File \"/usr/local/lib/python3.7/dist-packages/tensorflow/python/keras/engine/training_arrays_v1.py\", line 709, in predict\n",
            "    callbacks=callbacks)\n",
            "  File \"/usr/local/lib/python3.7/dist-packages/tensorflow/python/keras/engine/training_arrays_v1.py\", line 380, in model_iteration\n",
            "    batch_outs = f(ins_batch)\n",
            "  File \"/usr/local/lib/python3.7/dist-packages/tensorflow/python/keras/backend.py\", line 4055, in __call__\n",
            "    run_metadata=self.run_metadata)\n",
            "  File \"/usr/local/lib/python3.7/dist-packages/tensorflow/python/client/session.py\", line 1482, in __call__\n",
            "    run_metadata_ptr)\n",
            "tensorflow.python.framework.errors_impl.FailedPreconditionError: Could not find variable dense_1_1/kernel. This could mean that the variable has been deleted. In TF1, it can also mean the variable is uninitialized. Debug info: container=localhost, status=Not found: Container localhost does not exist. (Could not find resource: localhost/dense_1_1/kernel)\n",
            "\t [[{{node dense_1_1/MatMul/ReadVariableOp}}]]\n",
            "127.0.0.1 - - [02/Jul/2021 09:41:58] \"\u001b[35m\u001b[1mPOST /upload HTTP/1.1\u001b[0m\" 500 -\n",
            "[2021-07-02 09:41:58,558] ERROR in app: Exception on /upload [POST]\n",
            "Traceback (most recent call last):\n",
            "  File \"/usr/local/lib/python3.7/dist-packages/flask/app.py\", line 2447, in wsgi_app\n",
            "    response = self.full_dispatch_request()\n",
            "  File \"/usr/local/lib/python3.7/dist-packages/flask/app.py\", line 1952, in full_dispatch_request\n",
            "    rv = self.handle_user_exception(e)\n",
            "  File \"/usr/local/lib/python3.7/dist-packages/flask/app.py\", line 1821, in handle_user_exception\n",
            "    reraise(exc_type, exc_value, tb)\n",
            "  File \"/usr/local/lib/python3.7/dist-packages/flask/_compat.py\", line 39, in reraise\n",
            "    raise value\n",
            "  File \"/usr/local/lib/python3.7/dist-packages/flask/app.py\", line 1950, in full_dispatch_request\n",
            "    rv = self.dispatch_request()\n",
            "  File \"/usr/local/lib/python3.7/dist-packages/flask/app.py\", line 1936, in dispatch_request\n",
            "    return self.view_functions[rule.endpoint](**req.view_args)\n",
            "  File \"<ipython-input-8-a75dc40f2540>\", line 48, in upload\n",
            "    result = predict(filename)\n",
            "  File \"<ipython-input-8-a75dc40f2540>\", line 66, in predict\n",
            "    predicted = model.predict(data)\n",
            "  File \"/usr/local/lib/python3.7/dist-packages/tensorflow/python/keras/engine/training_v1.py\", line 997, in predict\n",
            "    use_multiprocessing=use_multiprocessing)\n",
            "  File \"/usr/local/lib/python3.7/dist-packages/tensorflow/python/keras/engine/training_arrays_v1.py\", line 709, in predict\n",
            "    callbacks=callbacks)\n",
            "  File \"/usr/local/lib/python3.7/dist-packages/tensorflow/python/keras/engine/training_arrays_v1.py\", line 380, in model_iteration\n",
            "    batch_outs = f(ins_batch)\n",
            "  File \"/usr/local/lib/python3.7/dist-packages/tensorflow/python/keras/backend.py\", line 4055, in __call__\n",
            "    run_metadata=self.run_metadata)\n",
            "  File \"/usr/local/lib/python3.7/dist-packages/tensorflow/python/client/session.py\", line 1482, in __call__\n",
            "    run_metadata_ptr)\n",
            "tensorflow.python.framework.errors_impl.FailedPreconditionError: Could not find variable dense_1_1/kernel. This could mean that the variable has been deleted. In TF1, it can also mean the variable is uninitialized. Debug info: container=localhost, status=Not found: Container localhost does not exist. (Could not find resource: localhost/dense_1_1/kernel)\n",
            "\t [[{{node dense_1_1/MatMul/ReadVariableOp}}]]\n",
            "127.0.0.1 - - [02/Jul/2021 09:41:58] \"\u001b[35m\u001b[1mPOST /upload HTTP/1.1\u001b[0m\" 500 -\n",
            "127.0.0.1 - - [02/Jul/2021 09:42:06] \"\u001b[33mGET /predic HTTP/1.1\u001b[0m\" 404 -\n",
            "127.0.0.1 - - [02/Jul/2021 09:42:06] \"\u001b[33mGET /favicon.ico HTTP/1.1\u001b[0m\" 404 -\n",
            "[2021-07-02 09:42:09,008] ERROR in app: Exception on /predict [GET]\n",
            "Traceback (most recent call last):\n",
            "  File \"/usr/local/lib/python3.7/dist-packages/flask/app.py\", line 2447, in wsgi_app\n",
            "    response = self.full_dispatch_request()\n",
            "  File \"/usr/local/lib/python3.7/dist-packages/flask/app.py\", line 1952, in full_dispatch_request\n",
            "    rv = self.handle_user_exception(e)\n",
            "  File \"/usr/local/lib/python3.7/dist-packages/flask/app.py\", line 1821, in handle_user_exception\n",
            "    reraise(exc_type, exc_value, tb)\n",
            "  File \"/usr/local/lib/python3.7/dist-packages/flask/_compat.py\", line 39, in reraise\n",
            "    raise value\n",
            "  File \"/usr/local/lib/python3.7/dist-packages/flask/app.py\", line 1950, in full_dispatch_request\n",
            "    rv = self.dispatch_request()\n",
            "  File \"/usr/local/lib/python3.7/dist-packages/flask/app.py\", line 1936, in dispatch_request\n",
            "    return self.view_functions[rule.endpoint](**req.view_args)\n",
            "TypeError: predict() missing 1 required positional argument: 'filename'\n",
            "127.0.0.1 - - [02/Jul/2021 09:42:09] \"\u001b[35m\u001b[1mGET /predict HTTP/1.1\u001b[0m\" 500 -\n",
            "127.0.0.1 - - [02/Jul/2021 09:42:09] \"\u001b[33mGET /predic HTTP/1.1\u001b[0m\" 404 -\n",
            "[2021-07-02 09:42:12,821] ERROR in app: Exception on /predict [GET]\n",
            "Traceback (most recent call last):\n",
            "  File \"/usr/local/lib/python3.7/dist-packages/flask/app.py\", line 2447, in wsgi_app\n",
            "    response = self.full_dispatch_request()\n",
            "  File \"/usr/local/lib/python3.7/dist-packages/flask/app.py\", line 1952, in full_dispatch_request\n",
            "    rv = self.handle_user_exception(e)\n",
            "  File \"/usr/local/lib/python3.7/dist-packages/flask/app.py\", line 1821, in handle_user_exception\n",
            "    reraise(exc_type, exc_value, tb)\n",
            "  File \"/usr/local/lib/python3.7/dist-packages/flask/_compat.py\", line 39, in reraise\n",
            "    raise value\n",
            "  File \"/usr/local/lib/python3.7/dist-packages/flask/app.py\", line 1950, in full_dispatch_request\n",
            "    rv = self.dispatch_request()\n",
            "  File \"/usr/local/lib/python3.7/dist-packages/flask/app.py\", line 1936, in dispatch_request\n",
            "    return self.view_functions[rule.endpoint](**req.view_args)\n",
            "TypeError: predict() missing 1 required positional argument: 'filename'\n",
            "127.0.0.1 - - [02/Jul/2021 09:42:12] \"\u001b[35m\u001b[1mGET /predict HTTP/1.1\u001b[0m\" 500 -\n",
            "[2021-07-02 09:42:21,044] ERROR in app: Exception on /predict [GET]\n",
            "Traceback (most recent call last):\n",
            "  File \"/usr/local/lib/python3.7/dist-packages/flask/app.py\", line 2447, in wsgi_app\n",
            "    response = self.full_dispatch_request()\n",
            "  File \"/usr/local/lib/python3.7/dist-packages/flask/app.py\", line 1952, in full_dispatch_request\n",
            "    rv = self.handle_user_exception(e)\n",
            "  File \"/usr/local/lib/python3.7/dist-packages/flask/app.py\", line 1821, in handle_user_exception\n",
            "    reraise(exc_type, exc_value, tb)\n",
            "  File \"/usr/local/lib/python3.7/dist-packages/flask/_compat.py\", line 39, in reraise\n",
            "    raise value\n",
            "  File \"/usr/local/lib/python3.7/dist-packages/flask/app.py\", line 1950, in full_dispatch_request\n",
            "    rv = self.dispatch_request()\n",
            "  File \"/usr/local/lib/python3.7/dist-packages/flask/app.py\", line 1936, in dispatch_request\n",
            "    return self.view_functions[rule.endpoint](**req.view_args)\n",
            "TypeError: predict() missing 1 required positional argument: 'filename'\n",
            "127.0.0.1 - - [02/Jul/2021 09:42:21] \"\u001b[35m\u001b[1mGET /predict HTTP/1.1\u001b[0m\" 500 -\n"
          ],
          "name": "stderr"
        }
      ]
    },
    {
      "cell_type": "code",
      "metadata": {
        "id": "8HrUHBn9OQCw"
      },
      "source": [
        ""
      ],
      "execution_count": null,
      "outputs": []
    }
  ]
}